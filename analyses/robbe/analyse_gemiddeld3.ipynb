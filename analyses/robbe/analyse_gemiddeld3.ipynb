{
 "cells": [
  {
   "cell_type": "markdown",
   "metadata": {},
   "source": [
    "# Analyse Gemiddeld 3\n",
    "\n",
    "Het berekenen of thuisvoordeel bestaat\n",
    "\n",
    "Bereken over alle seizoenen heen hoe vaak de thuisploeg won / gelijk speelde / verloor\n",
    "\n",
    "Bereken over alle seizoenen heen hoe vaak de uitploeg won / gelijk speelde / verloor\n"
   ]
  },
  {
   "cell_type": "code",
   "execution_count": 17,
   "metadata": {},
   "outputs": [],
   "source": [
    "# Importing the necessary packages\n",
    "import pandas as pd\n",
    "from scipy.stats import chi2_contingency\n",
    "import matplotlib.pyplot as plt\n",
    "import numpy as np# Data Frame                           # Advanced data visualisation"
   ]
  },
  {
   "cell_type": "code",
   "execution_count": 15,
   "metadata": {},
   "outputs": [],
   "source": [
    "# Laad de data\n",
    "wedstrijden_data = pd.read_csv(r\"C:\\Users\\Robbe\\Documents\\School_jaar_2\\sem2\\DEP\\wedstrijden.csv\", sep=\";\")"
   ]
  },
  {
   "cell_type": "code",
   "execution_count": 26,
   "metadata": {},
   "outputs": [
    {
     "name": "stdout",
     "output_type": "stream",
     "text": [
      "Chi-kwadraat waarde: 2422.5703513798826\n",
      "P-waarde: 0.0\n"
     ]
    },
    {
     "data": {
      "image/png": "[encoded data removed]",
      "text/plain": [
       "<Figure size 640x480 with 1 Axes>"
      ]
     },
     "metadata": {},
     "output_type": "display_data"
    }
   ],
   "source": [
    "\n",
    "# Bereken hoe vaak de thuisploeg won, gelijk speelde of verloor\n",
    "thuis_winst = (wedstrijden_data['FinaleStandThuisploeg'] > wedstrijden_data['FinaleStandUitploeg']).sum()\n",
    "thuis_gelijk = (wedstrijden_data['FinaleStandThuisploeg'] == wedstrijden_data['FinaleStandUitploeg']).sum()\n",
    "thuis_verlies = (wedstrijden_data['FinaleStandThuisploeg'] < wedstrijden_data['FinaleStandUitploeg']).sum()\n",
    "\n",
    "# Voor de uitploeg is winst gelijk aan verlies voor de thuisploeg en vice versa\n",
    "uit_winst = thuis_verlies\n",
    "uit_gelijk = thuis_gelijk\n",
    "uit_verlies = thuis_winst\n",
    "\n",
    "# Creëer een contingency tabel voor de chi-kwadraat test\n",
    "contingency_table = [[thuis_winst, thuis_gelijk, thuis_verlies],\n",
    "                     [uit_winst, uit_gelijk, uit_verlies]]\n",
    "\n",
    "# Voer de chi-kwadraat test uit\n",
    "chi2, p, dof, expected = chi2_contingency(contingency_table)\n",
    "\n",
    "print(f\"Chi-kwadraat waarde: {chi2}\")\n",
    "print(f\"P-waarde: {p}\")\n",
    "\n",
    "# Visualisatie\n",
    "# Resultaten voor winst en gelijkspel\n",
    "labels = ['Winst Thuis', 'Winst Uit', 'Gelijkspel']\n",
    "scores = [thuis_winst, uit_winst, thuis_gelijk]  # Gelijkspel is gelijk voor thuis en uit\n",
    "\n",
    "x = np.arange(len(labels))  # de labellocaties\n",
    "width = 0.5  # de breedte van de bars voor 'Gelijkspel' iets breder\n",
    "\n",
    "fig, ax = plt.subplots()\n",
    "\n",
    "# Balken voor 'Winst' en een enkele balk voor 'Gelijkspel'\n",
    "rects1 = ax.bar(x[0], scores[0], width, label='Thuis', color='blue')\n",
    "rects2 = ax.bar(x[1], scores[1], width, label='Uit', color='red')\n",
    "rects3 = ax.bar(x[2], scores[2], width, color='green')\n",
    "\n",
    "# Labels toevoegen, titel en aangepaste x-as tick labels, etc.\n",
    "ax.set_ylabel('Aantal matchen')\n",
    "ax.set_title('Resultaten analyse')\n",
    "ax.set_xticks(x)\n",
    "ax.set_xticklabels(labels)\n",
    "\n",
    "# Functie om labels toe te voegen boven bars\n",
    "def autolabel(rects):\n",
    "    for rect in rects:\n",
    "        for bar in rect:  # Iterate over the bars within the container\n",
    "            height = bar.get_height()\n",
    "            ax.annotate('{}'.format(height),\n",
    "                        xy=(bar.get_x() + bar.get_width() / 2, height),\n",
    "                        xytext=(0, 3),  # 3 punten verticale offset\n",
    "                        textcoords=\"offset points\",\n",
    "                        ha='center', va='bottom')\n",
    "\n",
    "autolabel([rects1, rects2])\n",
    "autolabel([rects3])  # Omdat rects3 nu een enkele balk voor gelijkspel vertegenwoordigt\n",
    "\n",
    "fig.tight_layout()\n",
    "\n",
    "plt.show()"
   ]
  }
 ],
 "metadata": {
  "kernelspec": {
   "display_name": "Python 3",
   "language": "python",
   "name": "python3"
  },
  "language_info": {
   "codemirror_mode": {
    "name": "ipython",
    "version": 3
   },
   "file_extension": ".py",
   "mimetype": "text/x-python",
   "name": "python",
   "nbconvert_exporter": "python",
   "pygments_lexer": "ipython3",
   "version": "3.10.11"
  }
 },
 "nbformat": 4,
 "nbformat_minor": 2
}
