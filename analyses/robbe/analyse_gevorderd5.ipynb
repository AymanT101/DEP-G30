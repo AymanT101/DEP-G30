{
 "cells": [
  {
   "cell_type": "markdown",
   "metadata": {},
   "source": [
    "# Analyse Gevorderd 5\n",
    "\n",
    "Hoeveel procent van de ploegen die na een derde van het seizoen (neem op speeldag 10) in de top 6 van het klassement stonden, staan op de laatste speeldag van het seizoen nog in de top 6 van het klassement?"
   ]
  },
  {
   "cell_type": "code",
   "execution_count": 1,
   "metadata": {},
   "outputs": [],
   "source": [
    "# Importing the necessary packages\n",
    "import pandas as pd"
   ]
  },
  {
   "cell_type": "code",
   "execution_count": 2,
   "metadata": {},
   "outputs": [],
   "source": [
    "#data inladen\n",
    "klassement_df = pd.read_csv(r\"C:\\Users\\Robbe\\Documents\\School_jaar_2\\sem2\\DEP\\klassement.csv\", sep=';')"
   ]
  },
  {
   "cell_type": "code",
   "execution_count": 14,
   "metadata": {},
   "outputs": [
    {
     "name": "stdout",
     "output_type": "stream",
     "text": [
      "98.2 % van deze teams zitte nog steeds in de top 6 op speeldag 10\n"
     ]
    },
    {
     "name": "stderr",
     "output_type": "stream",
     "text": [
      "C:\\Users\\Robbe\\AppData\\Local\\Temp\\ipykernel_57548\\477302527.py:7: DeprecationWarning: DataFrameGroupBy.apply operated on the grouping columns. This behavior is deprecated, and in a future version of pandas the grouping columns will be excluded from the operation. Either pass `include_groups=False` to exclude the groupings or explicitly select the grouping columns after groupby to silence this warning.\n",
      "  top_6_speeldag_10 = speeldag_10.groupby('Seizoen').apply(lambda x: x.nsmallest(6, 'Stand')['Stamnummer']).reset_index(drop=True)\n",
      "C:\\Users\\Robbe\\AppData\\Local\\Temp\\ipykernel_57548\\477302527.py:10: DeprecationWarning: DataFrameGroupBy.apply operated on the grouping columns. This behavior is deprecated, and in a future version of pandas the grouping columns will be excluded from the operation. Either pass `include_groups=False` to exclude the groupings or explicitly select the grouping columns after groupby to silence this warning.\n",
      "  top_6_laatste_speeldag = laatste_speeldag_df.groupby('Seizoen').apply(lambda x: x.nsmallest(6, 'Stand')['Stamnummer']).reset_index(drop=True)\n"
     ]
    }
   ],
   "source": [
    "# Filter de gegevens voor speeldag 10 en de laatste speeldag\n",
    "speeldag_10 = klassement_df[klassement_df['Speeldag'] == 10]\n",
    "laatste_speeldag = klassement_df.groupby('Seizoen')['Speeldag'].max().reset_index()\n",
    "laatste_speeldag_df = pd.merge(klassement_df, laatste_speeldag, on=['Seizoen', 'Speeldag'])\n",
    "\n",
    "# Selecteer de top 6 teams van speeldag 10\n",
    "top_6_speeldag_10 = speeldag_10.groupby('Seizoen').apply(lambda x: x.nsmallest(6, 'Stand')['Stamnummer']).reset_index(drop=True)\n",
    "\n",
    "# Selecteer de top 6 teams van de laatste speeldag\n",
    "top_6_laatste_speeldag = laatste_speeldag_df.groupby('Seizoen').apply(lambda x: x.nsmallest(6, 'Stand')['Stamnummer']).reset_index(drop=True)\n",
    "\n",
    "# Bereken hoeveel teams van de top 6 op speeldag 10 nog in de top 6 staan op de laatste speeldag\n",
    "in_beide_top_6 = top_6_speeldag_10.isin(top_6_laatste_speeldag).sum()\n",
    "\n",
    "# Percentage berekenen\n",
    "percentage_in_beide_top_6 = (in_beide_top_6 / len(top_6_speeldag_10)) * 100\n",
    "\n",
    "print(f\"{percentage_in_beide_top_6.round(1)} % van deze teams zitte nog steeds in de top 6 op speeldag 10\")"
   ]
  }
 ],
 "metadata": {
  "kernelspec": {
   "display_name": "Python 3",
   "language": "python",
   "name": "python3"
  },
  "language_info": {
   "codemirror_mode": {
    "name": "ipython",
    "version": 3
   },
   "file_extension": ".py",
   "mimetype": "text/x-python",
   "name": "python",
   "nbconvert_exporter": "python",
   "pygments_lexer": "ipython3",
   "version": "3.10.11"
  }
 },
 "nbformat": 4,
 "nbformat_minor": 2
}
