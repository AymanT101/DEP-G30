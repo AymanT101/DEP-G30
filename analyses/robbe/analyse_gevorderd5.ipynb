{
 "cells": [
  {
   "cell_type": "markdown",
   "metadata": {},
   "source": [
    "# Analyse Gevorderd 5\n",
    "\n",
    "Hoeveel procent van de ploegen die na een derde van het seizoen (neem op speeldag 10) in de top 6 van het klassement stonden, staan op de laatste speeldag van het seizoen nog in de top 6 van het klassement?"
   ]
  },
  {
   "cell_type": "code",
   "execution_count": 1,
   "metadata": {},
   "outputs": [],
   "source": [
    "# Importing the necessary packages\n",
    "import pandas as pd"
   ]
  },
  {
   "cell_type": "code",
   "execution_count": 8,
   "metadata": {},
   "outputs": [],
   "source": [
    "#data inladen\n",
    "klassement_df = pd.read_csv(r\"C:\\Users\\Robbe\\Documents\\School_jaar_2\\sem2\\DEP\\klassement.csv\", sep=';')"
   ]
  },
  {
   "cell_type": "code",
   "execution_count": 20,
   "metadata": {},
   "outputs": [
    {
     "name": "stdout",
     "output_type": "stream",
     "text": [
      "98.2% van de teams zitten nog steeds in de top 6 op de laatste speeldag.\n"
     ]
    }
   ],
   "source": [
    "# Filter voor speeldag 10 en de laatste speeldag direct\n",
    "speeldag_10 = klassement_df[klassement_df['Speeldag'] == 10]\n",
    "laatste_speeldag_df = klassement_df[klassement_df['Speeldag'] == klassement_df.groupby('Seizoen')['Speeldag'].transform('max')]\n",
    "\n",
    "# Selecteer de top 6 teams voor beide speeldagen met gebruik van DataFrame om meerdere kolommen te benaderen en verouderd gedrag te vermijden\n",
    "top_6_speeldag_10 = speeldag_10.groupby('Seizoen').apply(lambda x: x.nsmallest(6, 'Stand')['Stamnummer'], include_groups=False)\n",
    "top_6_laatste_speeldag = laatste_speeldag_df.groupby('Seizoen').apply(lambda x: x.nsmallest(6, 'Stand')['Stamnummer'], include_groups=False)\n",
    "\n",
    "# Bereken het aantal teams dat nog in de top 6 staat\n",
    "in_beide_top_6 = top_6_speeldag_10.isin(top_6_laatste_speeldag).sum()\n",
    "\n",
    "# Bereken en print het percentage\n",
    "percentage_in_beide_top_6 = (in_beide_top_6 / top_6_speeldag_10.size) * 100 if top_6_speeldag_10.size > 0 else 0\n",
    "print(f\"{percentage_in_beide_top_6:.1f}% van de teams zitten nog steeds in de top 6 op de laatste speeldag.\")"
   ]
  }
 ],
 "metadata": {
  "kernelspec": {
   "display_name": "Python 3",
   "language": "python",
   "name": "python3"
  },
  "language_info": {
   "codemirror_mode": {
    "name": "ipython",
    "version": 3
   },
   "file_extension": ".py",
   "mimetype": "text/x-python",
   "name": "python",
   "nbconvert_exporter": "python",
   "pygments_lexer": "ipython3",
   "version": "3.10.11"
  }
 },
 "nbformat": 4,
 "nbformat_minor": 2
}
