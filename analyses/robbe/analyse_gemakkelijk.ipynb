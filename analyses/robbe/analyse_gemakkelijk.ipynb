{
 "cells": [
  {
   "cell_type": "markdown",
   "metadata": {},
   "source": [
    "# Analyse Gemakkelijk\n",
    "\n",
    "Bij het wedden in de Play Offs wille we kunnen rekening houden met hoeveel ervaring een club heeft met spelen van de Play Offs\n",
    "\n",
    "Als de roepnaam van een club gegeven wordt, laten we zien hoeveel seizoenen een club in Play Off 1 en in Play Off 2 heeft gespeeld tot nu toe."
   ]
  },
  {
   "cell_type": "code",
   "execution_count": 1,
   "metadata": {},
   "outputs": [],
   "source": [
    "# Importing the necessary packages\n",
    "import pandas as pd                                 # Data Frame                            # Advanced data visualisation"
   ]
  },
  {
   "cell_type": "code",
   "execution_count": 2,
   "metadata": {},
   "outputs": [
    {
     "ename": "SyntaxError",
     "evalue": "(unicode error) 'unicodeescape' codec can't decode bytes in position 2-3: truncated \\UXXXXXXXX escape (1219985338.py, line 2)",
     "output_type": "error",
     "traceback": [
      "\u001b[1;36m  Cell \u001b[1;32mIn[2], line 2\u001b[1;36m\u001b[0m\n\u001b[1;33m    data = pd.read_csv(\"C:\\Users\\Robbe\\Documents\\School_jaar_2\\sem2\\DEP\\wedstrijden_playoffs_i_en_ii.csv\", sep=\";\")\u001b[0m\n\u001b[1;37m                                                                                                         ^\u001b[0m\n\u001b[1;31mSyntaxError\u001b[0m\u001b[1;31m:\u001b[0m (unicode error) 'unicodeescape' codec can't decode bytes in position 2-3: truncated \\UXXXXXXXX escape\n"
     ]
    }
   ],
   "source": [
    "#data inladen\n",
    "data = pd.read_csv(\"C:\\Users\\Robbe\\Documents\\School_jaar_2\\sem2\\DEP\\wedstrijden_playoffs_i_en_ii.csv\", sep=\";\")"
   ]
  },
  {
   "cell_type": "code",
   "execution_count": null,
   "metadata": {},
   "outputs": [],
   "source": [
    "# Laad de data\n",
    "data = pd.read_csv(\"C:\\\\Users\\\\Robbe\\\\Documents\\\\School_jaar_2\\\\sem2\\\\DEP\\\\wedstrijden_playoffs_i_en_ii.csv\", sep=\";\")\n",
    "\n",
    "# Functie om het aantal seizoenen per play off type te tellen\n",
    "def count_seasons(df):\n",
    "    return df.groupby(['roepnaam_thuis', 'type'])['seizoen'].nunique().unstack(fill_value=0)\n",
    "\n",
    "# Bereken het aantal seizoenen voor elke club in elk type Play Off\n",
    "playoff_season_counts = count_seasons(data)\n",
    "\n",
    "# Als je de resultaten wilt zien\n",
    "print(playoff_season_counts)"
   ]
  }
 ],
 "metadata": {
  "kernelspec": {
   "display_name": "Python 3",
   "language": "python",
   "name": "python3"
  },
  "language_info": {
   "codemirror_mode": {
    "name": "ipython",
    "version": 3
   },
   "file_extension": ".py",
   "mimetype": "text/x-python",
   "name": "python",
   "nbconvert_exporter": "python",
   "pygments_lexer": "ipython3",
   "version": "3.10.11"
  }
 },
 "nbformat": 4,
 "nbformat_minor": 2
}
