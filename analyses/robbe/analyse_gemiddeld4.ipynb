{
 "cells": [
  {
   "cell_type": "markdown",
   "metadata": {},
   "source": [
    "# Analyse Gevorderd\n",
    "\n",
    "Het berekenen of thuisvoordeel bestaat\n",
    "\n",
    "Bereken over alle seizoenen heen hoe vaak de thuisploeg won / gelijk speelde / verloor\n",
    "\n",
    "Bereken over alle seizoenen heen hoe vaak de uitploeg won / gelijk speelde / verloor\n"
   ]
  },
  {
   "cell_type": "code",
   "execution_count": 1,
   "metadata": {},
   "outputs": [],
   "source": [
    "# Importing the necessary packages\n",
    "import pandas as pd\n",
    "from scipy.stats import chisquare \n",
    "import matplotlib.pyplot as plt\n",
    "import seaborn as sns"
   ]
  },
  {
   "cell_type": "code",
   "execution_count": 3,
   "metadata": {},
   "outputs": [],
   "source": [
    "# Laad de data\n",
    "doelpunten_data = pd.read_csv(r\"C:\\Users\\Robbe\\Documents\\School_jaar_2\\sem2\\DEP\\doelpunten.csv\", sep=\";\")"
   ]
  },
  {
   "cell_type": "code",
   "execution_count": 4,
   "metadata": {},
   "outputs": [
    {
     "name": "stdout",
     "output_type": "stream",
     "text": [
      "Totaal aantal doelpunten in de eerste helft: 17684\n",
      "Totaal aantal doelpunten in de tweede helft: 23276\n",
      "Chi-kwadraat waarde: 763.4390625\n",
      "P-waarde: 4.800647314194788e-168\n"
     ]
    }
   ],
   "source": [
    "# Identificeer doelpunten in de eerste en tweede helft\n",
    "doelpunten_1e_helft = doelpunten_data[doelpunten_data['MinDoelpunt'] <= 45]\n",
    "doelpunten_2e_helft = doelpunten_data[(doelpunten_data['MinDoelpunt'] > 45) & (doelpunten_data['MinDoelpunt'] <= 90)]\n",
    "\n",
    "# Bereken het totaal aantal doelpunten in de eerste en tweede helft\n",
    "totaal_doelpunten_1e_helft = len(doelpunten_1e_helft)\n",
    "totaal_doelpunten_2e_helft = len(doelpunten_2e_helft)\n",
    "\n",
    "# Bereken verwachte doelpunten (gelijke verdeling)\n",
    "totaal_doelpunten = totaal_doelpunten_1e_helft + totaal_doelpunten_2e_helft\n",
    "verwachte_doelpunten = [totaal_doelpunten / 2, totaal_doelpunten / 2]\n",
    "\n",
    "# Voer de chi-kwadraat Goodness of Fit test uit\n",
    "chi2, p = chisquare(f_obs=[totaal_doelpunten_1e_helft, totaal_doelpunten_2e_helft], f_exp=verwachte_doelpunten)\n",
    "\n",
    "\n",
    "\n",
    "# Stel Seaborn stijl in voor mooiere plots\n",
    "sns.set(style=\"whitegrid\")\n",
    "\n",
    "# Doelpunten en labels voor de plot\n",
    "doelpunten_aantallen = [totaal_doelpunten_1e_helft, totaal_doelpunten_2e_helft]\n",
    "labels = ['Eerste Helft', 'Tweede Helft']\n",
    "colors = ['skyblue', 'lightgreen']\n",
    "\n",
    "# Maak een staafdiagram\n",
    "plt.figure(figsize=(10, 6))\n",
    "bars = plt.bar(labels, doelpunten_aantallen, color=colors)\n",
    "\n",
    "# Voeg een titel en labels toe\n",
    "plt.title('Aantal Doelpunten per Helft', fontsize=16)\n",
    "plt.ylabel('Aantal Doelpunten', fontsize=14)\n",
    "\n",
    "# Annoteer de bars met het exacte aantal doelpunten\n",
    "for bar in bars:\n",
    "    yval = bar.get_height()\n",
    "    plt.text(bar.get_x() + bar.get_width()/2.0, yval, int(yval), va='bottom', ha='center', fontsize=12)\n",
    "\n",
    "# Annoteer de plot met de p-waarde\n",
    "plt.text(1, max(doelpunten_aantallen) - max(doelpunten_aantallen)/10, f'p-waarde = {p:.2e}', ha='center', va='bottom', fontsize=12, color='red')\n",
    "\n",
    "plt.tight_layout()\n",
    "plt.show()"
   ]
  }
 ],
 "metadata": {
  "kernelspec": {
   "display_name": "Python 3",
   "language": "python",
   "name": "python3"
  },
  "language_info": {
   "codemirror_mode": {
    "name": "ipython",
    "version": 3
   },
   "file_extension": ".py",
   "mimetype": "text/x-python",
   "name": "python",
   "nbconvert_exporter": "python",
   "pygments_lexer": "ipython3",
   "version": "3.10.11"
  }
 },
 "nbformat": 4,
 "nbformat_minor": 2
}
