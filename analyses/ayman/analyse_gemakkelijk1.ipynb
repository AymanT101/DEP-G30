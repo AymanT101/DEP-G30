{
 "cells": [
  {
   "cell_type": "markdown",
   "metadata": {},
   "source": [
    "1. Lees de CSV-bestand met de wedstrijden\n"
   ]
  },
  {
   "cell_type": "code",
   "execution_count": 1,
   "metadata": {},
   "outputs": [
    {
     "ename": "NameError",
     "evalue": "name 'pd' is not defined",
     "output_type": "error",
     "traceback": [
      "\u001b[1;31m---------------------------------------------------------------------------\u001b[0m",
      "\u001b[1;31mNameError\u001b[0m                                 Traceback (most recent call last)",
      "Cell \u001b[1;32mIn[1], line 1\u001b[0m\n\u001b[1;32m----> 1\u001b[0m wedstrijden \u001b[38;5;241m=\u001b[39m \u001b[43mpd\u001b[49m\u001b[38;5;241m.\u001b[39mread_csv(wedstrijden_csv, sep\u001b[38;5;241m=\u001b[39m\u001b[38;5;124m'\u001b[39m\u001b[38;5;124m;\u001b[39m\u001b[38;5;124m'\u001b[39m, header\u001b[38;5;241m=\u001b[39m\u001b[38;5;241m0\u001b[39m)\n",
      "\u001b[1;31mNameError\u001b[0m: name 'pd' is not defined"
     ]
    }
   ],
   "source": [
    "wedstrijden = pd.read_csv(wedstrijden_csv, sep=';', header=0)"
   ]
  },
  {
   "cell_type": "markdown",
   "metadata": {},
   "source": [
    " 2. Filter de wedstrijden waarbij club1 of club2 de thuisploeg is"
   ]
  },
  {
   "cell_type": "code",
   "execution_count": null,
   "metadata": {},
   "outputs": [],
   "source": [
    "wedstrijden_club1 = wedstrijden[(wedstrijden['RoepnaamThuisploeg'] == club1) | (wedstrijden['RoepnaamUitploeg'] == club1)]\n",
    "wedstrijden_club2 = wedstrijden[(wedstrijden['RoepnaamThuisploeg'] == club2) | (wedstrijden['RoepnaamUitploeg'] == club2)]"
   ]
  },
  {
   "cell_type": "markdown",
   "metadata": {},
   "source": [
    "3. Bereken het aantal gewonnen, gelijkgespeelde en verloren matchen voor club1"
   ]
  },
  {
   "cell_type": "code",
   "execution_count": null,
   "metadata": {},
   "outputs": [],
   "source": [
    "gewonnen_club1 = len(wedstrijden_club1[(wedstrijden_club1['FinaleStandThuisploeg'] > wedstrijden_club1['FinaleStandUitploeg']) & (wedstrijden_club1['RoepnaamThuisploeg'] == club1)])\n",
    "gelijk_club1 = len(wedstrijden_club1[(wedstrijden_club1['FinaleStandThuisploeg'] == wedstrijden_club1['FinaleStandUitploeg']) & (wedstrijden_club1['RoepnaamThuisploeg'] == club1)])\n",
    "verloren_club1 = len(wedstrijden_club1[(wedstrijden_club1['FinaleStandThuisploeg'] < wedstrijden_club1['FinaleStandUitploeg']) & (wedstrijden_club1['RoepnaamThuisploeg'] == club1)])"
   ]
  },
  {
   "cell_type": "markdown",
   "metadata": {},
   "source": [
    "4. Bereken het aantal gewonnen, gelijkgespeelde en verloren matchen voor club2"
   ]
  },
  {
   "cell_type": "code",
   "execution_count": null,
   "metadata": {},
   "outputs": [],
   "source": [
    "gewonnen_club2 = len(wedstrijden_club2[(wedstrijden_club2['FinaleStandThuisploeg'] > wedstrijden_club2['FinaleStandUitploeg']) & (wedstrijden_club2['RoepnaamThuisploeg'] == club2)])\n",
    "gelijk_club2 = len(wedstrijden_club2[(wedstrijden_club2['FinaleStandThuisploeg'] == wedstrijden_club2['FinaleStandUitploeg']) & (wedstrijden_club2['RoepnaamThuisploeg'] == club2)])\n",
    "verloren_club2 = len(wedstrijden_club2[(wedstrijden_club2['FinaleStandThuisploeg'] < wedstrijden_club2['FinaleStandUitploeg']) & (wedstrijden_club2['RoepnaamThuisploeg'] == club2)])"
   ]
  },
  {
   "cell_type": "markdown",
   "metadata": {},
   "source": [
    "5. Bereken het totale aantal matchen"
   ]
  },
  {
   "cell_type": "code",
   "execution_count": null,
   "metadata": {},
   "outputs": [],
   "source": [
    "totale_matchen = gewonnen_club1 + gelijk_club1 + verloren_club1 + gewonnen_club2 + gelijk_club2 + verloren_club2"
   ]
  },
  {
   "cell_type": "markdown",
   "metadata": {},
   "source": [
    "6. Bereken de percentages\n"
   ]
  },
  {
   "cell_type": "code",
   "execution_count": null,
   "metadata": {},
   "outputs": [],
   "source": [
    "gewonnen_percentage_club1 = (gewonnen_club1 / totale_matchen) * 100\n",
    "gelijk_percentage_club1 = (gelijk_club1 / totale_matchen) * 100\n",
    "verloren_percentage_club1 = (verloren_club1 / totale_matchen) * 100\n",
    "    \n",
    "gewonnen_percentage_club2 = (gewonnen_club2 / totale_matchen) * 100\n",
    "gelijk_percentage_club2 = (gelijk_club2 / totale_matchen) * 100\n",
    "verloren_percentage_club2 = (verloren_club2 / totale_matchen) * 100"
   ]
  },
  {
   "cell_type": "markdown",
   "metadata": {},
   "source": [
    "7. Print de resultaten\n"
   ]
  },
  {
   "cell_type": "code",
   "execution_count": null,
   "metadata": {},
   "outputs": [],
   "source": [
    "print(\"KANS OP WINST\")\n",
    "print(f\"{club1} {gewonnen_percentage_club1:.2f}% winstpercentage\")\n",
    "print(f\"{club1} {gelijk_percentage_club1:.2f}% gelijkspelpercentage\")\n",
    "print(f\"{club2} {verloren_percentage_club2:.2f}% Verlorenpercentage\")"
   ]
  },
  {
   "cell_type": "markdown",
   "metadata": {},
   "source": [
    "8. Omzetten naar csv en berekening functie oproepen.\n"
   ]
  },
  {
   "cell_type": "code",
   "execution_count": null,
   "metadata": {},
   "outputs": [],
   "source": [
    "wedstrijden_csv = \"clean_matches.csv\"\n",
    "club1 = \"RWD Molenbeek\"\n",
    "club2 = \"KAS Eupen\"\n",
    "bereken_match_statistieken(wedstrijden_csv, club1, club2)"
   ]
  }
 ],
 "metadata": {
  "kernelspec": {
   "display_name": "Python 3",
   "language": "python",
   "name": "python3"
  },
  "language_info": {
   "codemirror_mode": {
    "name": "ipython",
    "version": 3
   },
   "file_extension": ".py",
   "mimetype": "text/x-python",
   "name": "python",
   "nbconvert_exporter": "python",
   "pygments_lexer": "ipython3",
   "version": "3.12.3"
  }
 },
 "nbformat": 4,
 "nbformat_minor": 2
}
