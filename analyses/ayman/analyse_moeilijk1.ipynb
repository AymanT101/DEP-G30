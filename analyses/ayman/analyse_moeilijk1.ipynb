{
 "cells": [
  {
   "cell_type": "markdown",
   "metadata": {},
   "source": [
    "# Analyse Moeilijk\n",
    "\n",
    "1. Lees de wedstrijden csv"
   ]
  },
  {
   "cell_type": "code",
   "execution_count": null,
   "metadata": {},
   "outputs": [],
   "source": [
    "def lees_wedstrijden(bestandsnaam, delimiter):\n",
    "    \"\"\"Leest de wedstrijden uit een CSV-bestand en retourneert een lijst met wedstrijden.\"\"\"\n",
    "    wedstrijden = []\n",
    "    with open(bestandsnaam, newline='', encoding='utf-8') as csvfile:\n",
    "        reader = csv.DictReader(csvfile, delimiter=delimiter)\n",
    "        for row in reader:\n",
    "            wedstrijden.append(row)\n",
    "    return wedstrijden"
   ]
  },
  {
   "cell_type": "markdown",
   "metadata": {},
   "source": [
    "2. Bereken het gemiddelde per match"
   ]
  },
  {
   "cell_type": "code",
   "execution_count": null,
   "metadata": {},
   "outputs": [],
   "source": [
    "\n",
    "def bereken_gemiddelde_doelpunten(wedstrijden):\n",
    "    \"\"\"Berekent het gemiddelde aantal doelpunten per match per seizoen.\"\"\"\n",
    "    gemiddelde_doelpunten = {}\n",
    "    for wedstrijd in wedstrijden:\n",
    "        seizoen = wedstrijd['Seizoen']\n",
    "        totale_doelpunten = int(wedstrijd['FinaleStandThuisploeg']) + int(wedstrijd['FinaleStandUitploeg'])\n",
    "        if seizoen not in gemiddelde_doelpunten:\n",
    "            gemiddelde_doelpunten[seizoen] = {'totaal': totale_doelpunten, 'aantal': 1}\n",
    "        else:\n",
    "            gemiddelde_doelpunten[seizoen]['totaal'] += totale_doelpunten\n",
    "            gemiddelde_doelpunten[seizoen]['aantal'] += 1\n",
    "    for seizoen in gemiddelde_doelpunten:\n",
    "        gemiddelde_doelpunten[seizoen] = gemiddelde_doelpunten[seizoen]['totaal'] / gemiddelde_doelpunten[seizoen]['aantal']\n",
    "    return gemiddelde_doelpunten\n"
   ]
  },
  {
   "cell_type": "markdown",
   "metadata": {},
   "source": [
    "3. Stel het grafiek op."
   ]
  },
  {
   "cell_type": "code",
   "execution_count": null,
   "metadata": {},
   "outputs": [],
   "source": [
    "def plot_gemiddelde_doelpunten(gemiddelde_doelpunten):\n",
    "    \"\"\"Zet het gemiddelde aantal doelpunten per match per seizoen uit in een lijngrafiek.\"\"\"\n",
    "    seizoenen = list(gemiddelde_doelpunten.keys())\n",
    "    doelpunten = list(gemiddelde_doelpunten.values())\n",
    "    \n",
    "    # Formateer de seizoenen voor betere leesbaarheid\n",
    "    seizoenen_labels = [seizoen.replace('/', '-') for seizoen in seizoenen]\n",
    "    \n",
    "    plt.plot(seizoenen_labels, doelpunten, marker='o')\n",
    "    plt.xlabel('Seizoen')\n",
    "    plt.ylabel('Gemiddelde doelpunten per match')\n",
    "    plt.title('Gemiddelde doelpunten per match per seizoen')\n",
    "    plt.grid(True)\n",
    "    \n",
    "    # Roteer de x-as voor betere leesbaarheid\n",
    "    plt.xticks(rotation=45)\n",
    "    \n",
    "    plt.show()"
   ]
  },
  {
   "cell_type": "markdown",
   "metadata": {},
   "source": [
    "4. Stelt de p en t-test op."
   ]
  },
  {
   "cell_type": "code",
   "execution_count": null,
   "metadata": {},
   "outputs": [],
   "source": [
    "def statistische_test(gemiddelde_doelpunten):\n",
    "    \"\"\"Voert een t-test uit om te bepalen of er de laatste jaren significant minder doelpunten worden gemaakt.\"\"\"\n",
    "    recente_seizoenen = list(gemiddelde_doelpunten.keys())[-7:]\n",
    "    oude_seizoenen = list(gemiddelde_doelpunten.keys())[:-7]\n",
    "    recente_gemiddelde = [gemiddelde_doelpunten[seizoen] for seizoen in recente_seizoenen]\n",
    "    oude_gemiddelde = [gemiddelde_doelpunten[seizoen] for seizoen in oude_seizoenen]\n",
    "    t_stat, p_value = stats.ttest_ind(recente_gemiddelde, oude_gemiddelde)\n",
    "    return t_stat, p_value"
   ]
  },
  {
   "cell_type": "markdown",
   "metadata": {},
   "source": [
    "5. Roept de functie's op en print de T en p-test af."
   ]
  },
  {
   "cell_type": "code",
   "execution_count": null,
   "metadata": {},
   "outputs": [],
   "source": [
    "# Lees de reguliere competitie wedstrijden uit het CSV-bestand met puntkomma als scheidingsteken\n",
    "wedstrijden = lees_wedstrijden('clean_matches.csv', ';')\n",
    "\n",
    "# Bereken het gemiddelde aantal doelpunten per match per seizoen\n",
    "gemiddelde_doelpunten = bereken_gemiddelde_doelpunten(wedstrijden)\n",
    "\n",
    "# Plot het gemiddelde aantal doelpunten per match per seizoen\n",
    "plot_gemiddelde_doelpunten(gemiddelde_doelpunten)\n",
    "\n",
    "# Voer een t-test uit om te bepalen of er de laatste jaren significant minder doelpunten worden gemaakt\n",
    "t_stat, p_value = statistische_test(gemiddelde_doelpunten)\n",
    "print(f\"T-statistiek: {t_stat}, P-waarde: {p_value}\")"
   ]
  }
 ],
 "metadata": {
  "kernelspec": {
   "display_name": "Python 3",
   "language": "python",
   "name": "python3"
  },
  "language_info": {
   "name": "python",
   "version": "3.12.3"
  }
 },
 "nbformat": 4,
 "nbformat_minor": 2
}
