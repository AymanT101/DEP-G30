{
 "cells": [
  {
   "cell_type": "markdown",
   "metadata": {},
   "source": [
    "# Analyse Gevorderd\n",
    "\n",
    "1. Lees de wedstrijden \n"
   ]
  },
  {
   "cell_type": "code",
   "execution_count": 1,
   "metadata": {},
   "outputs": [],
   "source": [
    "import pandas as pd\n",
    "import math\n",
    "\n",
    "def lees_wedstrijden(bestandsnaam, delimiter):\n",
    "    \"\"\"Leest de wedstrijden uit een CSV-bestand en retourneert een DataFrame met wedstrijden.\"\"\"\n",
    "    return pd.read_csv(bestandsnaam, delimiter=delimiter)"
   ]
  },
  {
   "cell_type": "markdown",
   "metadata": {},
   "source": [
    "2. Bereken de reguliere competitie punten"
   ]
  },
  {
   "cell_type": "code",
   "execution_count": null,
   "metadata": {},
   "outputs": [],
   "source": [
    "def bereken_punten(wedstrijden, seizoen):\n",
    "    \"\"\"Berekent de punten voor elke ploeg op basis van de wedstrijden voor een specifiek seizoen.\"\"\"\n",
    "    punten = {}\n",
    "    wedstrijden_seizoen = wedstrijden[wedstrijden['Seizoen'] == seizoen]\n",
    "    \n",
    "    for index, row in wedstrijden_seizoen.iterrows():\n",
    "        thuisploeg = row['RoepnaamThuisploeg']\n",
    "        uitploeg = row['RoepnaamUitploeg']\n",
    "        finale_stand_thuis = float(row['FinaleStandThuisploeg'])\n",
    "        finale_stand_uit = float(row['FinaleStandUitploeg'])\n",
    "        \n",
    "        if thuisploeg not in punten:\n",
    "            punten[thuisploeg] = 0\n",
    "        if uitploeg not in punten:\n",
    "            punten[uitploeg] = 0\n",
    "        \n",
    "        if finale_stand_thuis > finale_stand_uit:\n",
    "            punten[thuisploeg] += 3\n",
    "        elif finale_stand_thuis == finale_stand_uit:\n",
    "            punten[thuisploeg] += 1\n",
    "            punten[uitploeg] += 1\n",
    "        else:\n",
    "            punten[uitploeg] += 3\n",
    "    \n",
    "    return punten"
   ]
  },
  {
   "cell_type": "markdown",
   "metadata": {},
   "source": [
    "3. Bereken play-offs 1 extra punten"
   ]
  },
  {
   "cell_type": "code",
   "execution_count": null,
   "metadata": {},
   "outputs": [],
   "source": [
    "def bereken_playoff_punten(punten, playoffs, seizoen):\n",
    "    \"\"\"Berekent de extra punten voor elke ploeg op basis van de Play-off wedstrijden van het type 'Playoff_1'.\"\"\"\n",
    "    halve_punten = {ploeg: punten[ploeg] / 2 for ploeg in punten}\n",
    "    \n",
    "    playoffs_seizoen = playoffs[playoffs['seizoen_alternatief'] == seizoen]\n",
    "    playoffs_seizoen = playoffs_seizoen[playoffs_seizoen['type'] == 'Playoff_1']\n",
    "    \n",
    "    for index, row in playoffs_seizoen.iterrows():\n",
    "        thuisploeg = row['roepnaam_thuis']\n",
    "        uitploeg = row['roepnaam_uit']\n",
    "        stand_thuis = int(row['stand_thuis'])\n",
    "        stand_uit = int(row['stand_uit'])\n",
    "        \n",
    "        if thuisploeg not in halve_punten:\n",
    "            halve_punten[thuisploeg] = 0\n",
    "        if uitploeg not in halve_punten:\n",
    "            halve_punten[uitploeg] = 0\n",
    "        \n",
    "        if stand_thuis > stand_uit:\n",
    "            halve_punten[thuisploeg] += 3\n",
    "        elif stand_thuis == stand_uit:\n",
    "            halve_punten[thuisploeg] += 1\n",
    "            halve_punten[uitploeg] += 1\n",
    "        else:\n",
    "            halve_punten[uitploeg] += 3\n",
    "    \n",
    "    return halve_punten\n"
   ]
  },
  {
   "cell_type": "markdown",
   "metadata": {},
   "source": [
    "4. Toont het resultaat en roept volgende functies op."
   ]
  },
  {
   "cell_type": "code",
   "execution_count": null,
   "metadata": {},
   "outputs": [],
   "source": [
    "def toon_resultaat(punten):\n",
    "    \"\"\"Toont de berekende punten voor elke ploeg.\"\"\"\n",
    "    sorted_punten = sorted(punten.items(), key=lambda x: x[1], reverse=True)\n",
    "    \n",
    "    print(\"STAND JUPILER PRO LEAGUE PLAYOFF I\")\n",
    "    print(\"#\\tClub\\t\\tW\\tG\\tV\\tDoelpunten\\t+/-\\tPnt.\")\n",
    "    for index, (ploeg, punten) in enumerate(sorted_punten, start=1):\n",
    "        print(f\"{index}\\t{ploeg}\\t\\t\\t\\t\\t\\t{math.ceil(punten)}\")\n",
    "\n",
    "# Lees de reguliere competitie wedstrijden uit het CSV-bestand met puntkomma als scheidingsteken\n",
    "wedstrijden = lees_wedstrijden('clean_matches.csv', ';')\n",
    "\n",
    "# Bereken de punten voor elke ploeg voor het seizoen 21/22\n",
    "punten = bereken_punten(wedstrijden, \"21/22\")\n",
    "\n",
    "# Lees de playoff wedstrijden uit het CSV-bestand met puntkomma als scheidingsteken\n",
    "playoffs = lees_wedstrijden('wedstrijd_playoffs.csv', ',')\n",
    "\n",
    "# Bereken de extra punten voor elke ploeg voor de playoffs van het seizoen 21/22\n",
    "extra_punten = bereken_playoff_punten(punten, playoffs, \"21/22\")\n",
    "\n",
    "# Toon de resultaten\n",
    "toon_resultaat(extra_punten)\n"
   ]
  }
 ],
 "metadata": {
  "kernelspec": {
   "display_name": "Python 3",
   "language": "python",
   "name": "python3"
  },
  "language_info": {
   "codemirror_mode": {
    "name": "ipython",
    "version": 3
   },
   "file_extension": ".py",
   "mimetype": "text/x-python",
   "name": "python",
   "nbconvert_exporter": "python",
   "pygments_lexer": "ipython3",
   "version": "3.12.3"
  }
 },
 "nbformat": 4,
 "nbformat_minor": 2
}
