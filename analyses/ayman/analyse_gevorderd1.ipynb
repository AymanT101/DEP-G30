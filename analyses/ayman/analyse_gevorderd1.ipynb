{
 "cells": [
  {
   "cell_type": "markdown",
   "metadata": {},
   "source": [
    "# Analyse Gevorderd\n",
    "\n",
    "1. Lees de wedstrijden \n"
   ]
  },
  {
   "cell_type": "code",
   "execution_count": null,
   "metadata": {},
   "outputs": [],
   "source": [
    "def lees_wedstrijden(bestandsnaam, delimiter):\n",
    "    wedstrijden = []\n",
    "    with open(bestandsnaam, newline='', encoding='utf-8') as csvfile:\n",
    "        reader = csv.DictReader(csvfile, delimiter=delimiter)\n",
    "        for row in reader:\n",
    "            wedstrijden.append(row)\n",
    "    return wedstrijden"
   ]
  },
  {
   "cell_type": "markdown",
   "metadata": {},
   "source": [
    "2. Bereken de reguliere competitie punten"
   ]
  },
  {
   "cell_type": "code",
   "execution_count": null,
   "metadata": {},
   "outputs": [],
   "source": [
    "def bereken_punten(wedstrijden, seizoen):\n",
    "    punten = {}\n",
    "    for wedstrijd in wedstrijden:\n",
    "        if wedstrijd['Seizoen'] != seizoen:\n",
    "            continue # Sla deze wedstrijd over als het niet overeenkomt met het opgegeven seizoen\n",
    "        \n",
    "        thuisploeg = wedstrijd['RoepnaamThuisploeg']\n",
    "        uitploeg = wedstrijd['RoepnaamUitploeg']\n",
    "        finale_stand_thuis = float(wedstrijd['FinaleStandThuisploeg'])\n",
    "        finale_stand_uit = float(wedstrijd['FinaleStandUitploeg'])\n",
    "        \n",
    "        if thuisploeg not in punten:\n",
    "            punten[thuisploeg] = 0\n",
    "        if uitploeg not in punten:\n",
    "            punten[uitploeg] = 0\n",
    "        \n",
    "        if finale_stand_thuis > finale_stand_uit:\n",
    "            punten[thuisploeg] += 3\n",
    "        elif finale_stand_thuis == finale_stand_uit:\n",
    "            punten[thuisploeg] += 1\n",
    "            punten[uitploeg] += 1\n",
    "        else:\n",
    "            punten[uitploeg] += 3\n",
    "    \n",
    "    return punten"
   ]
  },
  {
   "cell_type": "markdown",
   "metadata": {},
   "source": [
    "3. Bereken play-offs 1 extra punten"
   ]
  },
  {
   "cell_type": "code",
   "execution_count": null,
   "metadata": {},
   "outputs": [],
   "source": [
    "def bereken_playoff_punten(punten, playoffs, seizoen):\n",
    "    \"\"\"Berekent de extra punten voor elke ploeg op basis van de Play-off wedstrijden van het type 'Playoff_1'.\"\"\"\n",
    "    # Halveer de punten van reguliere competitie\n",
    "    halve_punten = {ploeg: punten[ploeg] / 2 for ploeg in punten}\n",
    "    \n",
    "    # Bereken de extra punten voor elke ploeg op basis van de Play-off wedstrijden van het type 'Playoff_1'\n",
    "    for playoff in playoffs:\n",
    "        if playoff['seizoen_alternatief'] != seizoen or playoff['type'] != 'Playoff_1':\n",
    "            continue # Sla deze wedstrijd over als het niet overeenkomt met het opgegeven seizoen of als het niet Play-off 1 is\n",
    "        \n",
    "        thuisploeg = playoff['roepnaam_thuis']\n",
    "        uitploeg = playoff['roepnaam_uit']\n",
    "        stand_thuis = int(playoff['stand_thuis'])\n",
    "        stand_uit = int(playoff['stand_uit'])\n",
    "        \n",
    "        # Controleer of de ploegen al in de dictionary staan, zo niet, initialiseer met 0\n",
    "        if thuisploeg not in halve_punten:\n",
    "            halve_punten[thuisploeg] = 0\n",
    "        if uitploeg not in halve_punten:\n",
    "            halve_punten[uitploeg] = 0\n",
    "        \n",
    "        # Ken punten toe op basis van de uitslag\n",
    "        if stand_thuis > stand_uit:\n",
    "            halve_punten[thuisploeg] += 3\n",
    "        elif stand_thuis == stand_uit:\n",
    "            halve_punten[thuisploeg] += 1\n",
    "            halve_punten[uitploeg] += 1\n",
    "        else:\n",
    "            halve_punten[uitploeg] += 3\n",
    "    \n",
    "    return halve_punten"
   ]
  },
  {
   "cell_type": "markdown",
   "metadata": {},
   "source": [
    "4. Toont het resultaat en roept volgende functies op."
   ]
  },
  {
   "cell_type": "code",
   "execution_count": null,
   "metadata": {},
   "outputs": [],
   "source": [
    "def toon_resultaat(punten):\n",
    "    \"\"\"Toont de berekende punten voor elke ploeg.\"\"\"\n",
    "    # Sorteer op dalende orde\n",
    "    sorted_punten = sorted(punten.items(), key=lambda x: x[1], reverse=True)\n",
    "    \n",
    "    print(\"STAND JUPILER PRO LEAGUE PLAYOFF I\")\n",
    "    print(\"#\\tClub\\t\\tW\\tG\\tV\\tDoelpunten\\t+/-\\tPnt.\")\n",
    "    for index, (ploeg, punten) in enumerate(sorted_punten, start=1):\n",
    "        print(f\"{index}\\t{ploeg}\\t\\t\\t\\t\\t\\t{math.ceil(punten)}\")\n",
    "\n",
    "# Lees de reguliere competitie wedstrijden uit het CSV-bestand met puntkomma als scheidingsteken\n",
    "wedstrijden = lees_wedstrijden('clean_matches.csv', ';')\n",
    "\n",
    "# Bereken de punten voor elke ploeg voor het seizoen 21/22\n",
    "punten = bereken_punten(wedstrijden, \"21/22\")\n",
    "\n",
    "# Lees de playoff wedstrijden uit het CSV-bestand met puntkomma als scheidingsteken\n",
    "playoffs = lees_wedstrijden('wedstrijd_playoffs.csv', ',')\n",
    "\n",
    "# Bereken de extra punten voor elke ploeg voor de playoffs van het seizoen 21/22\n",
    "extra_punten = bereken_playoff_punten(punten, playoffs, \"21/22\")\n",
    "\n",
    "# Toon de resultaten\n",
    "toon_resultaat(extra_punten)"
   ]
  }
 ],
 "metadata": {
  "kernelspec": {
   "display_name": "Python 3",
   "language": "python",
   "name": "python3"
  },
  "language_info": {
   "name": "python",
   "version": "3.12.3"
  }
 },
 "nbformat": 4,
 "nbformat_minor": 2
}
