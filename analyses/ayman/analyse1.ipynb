{
 "cells": [
  {
   "cell_type": "markdown",
   "id": "abdc350a-58a0-48a2-a9b4-dba018077882",
   "metadata": {},
   "source": [
    "Stap 1: Importeer de benodigde bibliotheek\n"
   ]
  },
  {
   "cell_type": "code",
   "execution_count": null,
   "id": "fb497daf-21c3-4404-b64f-3305a0f831f7",
   "metadata": {},
   "outputs": [],
   "source": [
    "import pandas as pd\n"
   ]
  },
  {
   "cell_type": "markdown",
   "id": "218a8624-1eee-47b7-bdb0-9a9f821ed804",
   "metadata": {},
   "source": [
    "Stap 2:   Analyseert de uitslagen van alle duels uit een CSV-bestand en berekent de uitslagen en percentages per club.\n",
    "Parameters:\n",
    "    - csv_bestand (str): Het pad naar het CSV-bestand met de duelresultaten.\n",
    "\n",
    "Returns:\n",
    "    - DataFrame: Een DataFrame met de uitslagen en percentages per club.\n",
    "    \n"
   ]
  },
  {
   "cell_type": "code",
   "execution_count": null,
   "id": "fe3412d6-ded1-4da5-a22f-3d925bae4692",
   "metadata": {},
   "outputs": [],
   "source": [
    "def analyseer_alle_duels(csv_bestand):\n",
    "\n",
    "    df = pd.read_csv(csv_bestand, sep=';')\n",
    "    \n",
    "    # Bereken de uitslagen voor elke club\n",
    "    uitslagen = df.groupby(['RoepnaamThuisploeg', 'RoepnaamUitploeg']).apply(lambda x: pd.Series({\n",
    "        'gewonnen': (x['FinaleStandThuisploeg'] > x['FinaleStandUitploeg']).sum(),\n",
    "        'gelijk': (x['FinaleStandThuisploeg'] == x['FinaleStandUitploeg']).sum(),\n",
    "        'verloren': (x['FinaleStandThuisploeg'] < x['FinaleStandUitploeg']).sum()\n",
    "    }), include_groups=False).reset_index()\n",
    "    \n",
    "    # Bereken de percentages\n",
    "    uitslagen['percentage_gewonnen'] = (uitslagen['gewonnen'] / (uitslagen['gewonnen'] + uitslagen['gelijk'] + uitslagen['verloren'])) * 100\n",
    "    uitslagen['percentage_gelijk'] = (uitslagen['gelijk'] / (uitslagen['gewonnen'] + uitslagen['gelijk'] + uitslagen['verloren'])) * 100\n",
    "    uitslagen['percentage_verloren'] = (uitslagen['verloren'] / (uitslagen['gewonnen'] + uitslagen['gelijk'] + uitslagen['verloren'])) * 100\n",
    "    \n",
    "    return uitslagen\n"
   ]
  },
  {
   "cell_type": "markdown",
   "id": "223c6573-51f8-4a9f-8abc-9235bfdc10e3",
   "metadata": {},
   "source": [
    "Stap 3:Omzetten de uitslagen naar een dataframe\n"
   ]
  },
  {
   "cell_type": "code",
   "execution_count": null,
   "id": "6d0502ec-37bf-462c-b388-a54af559d97a",
   "metadata": {},
   "outputs": [],
   "source": [
    "# Omzetten de uitslagen naar een dataframe\n",
    "csv_bestand = 'clean_matches.csv'\n",
    "uitslagen_overzicht = analyseer_alle_duels(csv_bestand)\n",
    "print(uitslagen_overzicht)\n"
   ]
  }
 ],
 "metadata": {
  "kernelspec": {
   "display_name": "Python 3 (ipykernel)",
   "language": "python",
   "name": "python3"
  },
  "language_info": {
   "codemirror_mode": {
    "name": "ipython",
    "version": 3
   },
   "file_extension": ".py",
   "mimetype": "text/x-python",
   "name": "python",
   "nbconvert_exporter": "python",
   "pygments_lexer": "ipython3",
   "version": "3.12.2"
  }
 },
 "nbformat": 4,
 "nbformat_minor": 5
}
