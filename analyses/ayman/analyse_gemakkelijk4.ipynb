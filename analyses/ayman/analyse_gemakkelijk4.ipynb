{
 "cells": [
  {
   "cell_type": "markdown",
   "metadata": {},
   "source": [
    "# Analyse Gemakkelijk 4"
   ]
  },
  {
   "cell_type": "markdown",
   "metadata": {},
   "source": [
    "1. Importeer volgende bibliotheken"
   ]
  },
  {
   "cell_type": "code",
   "execution_count": 5,
   "metadata": {},
   "outputs": [],
   "source": [
    "import csv\n",
    "import pandas as pd\n",
    "import numpy as np\n",
    "from scipy import stats"
   ]
  },
  {
   "cell_type": "markdown",
   "metadata": {},
   "source": [
    "2. Lees de csv en test het"
   ]
  },
  {
   "cell_type": "code",
   "execution_count": 6,
   "metadata": {},
   "outputs": [
    {
     "data": {
      "text/html": [
       "<div>\n",
       "<style scoped>\n",
       "    .dataframe tbody tr th:only-of-type {\n",
       "        vertical-align: middle;\n",
       "    }\n",
       "\n",
       "    .dataframe tbody tr th {\n",
       "        vertical-align: top;\n",
       "    }\n",
       "\n",
       "    .dataframe thead th {\n",
       "        text-align: right;\n",
       "    }\n",
       "</style>\n",
       "<table border=\"1\" class=\"dataframe\">\n",
       "  <thead>\n",
       "    <tr style=\"text-align: right;\">\n",
       "      <th></th>\n",
       "      <th>Datum</th>\n",
       "      <th>Tijdstip</th>\n",
       "      <th>Id</th>\n",
       "      <th>StamnummerThuisploeg</th>\n",
       "      <th>RoepnaamThuisploeg</th>\n",
       "      <th>StamnummerUitploeg</th>\n",
       "      <th>RoepnaamUitploeg</th>\n",
       "      <th>FinaleStandThuisploeg</th>\n",
       "      <th>FinaleStandUitploeg</th>\n",
       "      <th>Seizoen</th>\n",
       "      <th>Speeldag</th>\n",
       "    </tr>\n",
       "  </thead>\n",
       "  <tbody>\n",
       "    <tr>\n",
       "      <th>0</th>\n",
       "      <td>1960-09-04</td>\n",
       "      <td>15:00</td>\n",
       "      <td>4008203</td>\n",
       "      <td>373</td>\n",
       "      <td>Sint-Truidense VV</td>\n",
       "      <td>16</td>\n",
       "      <td>Standard Luik</td>\n",
       "      <td>0</td>\n",
       "      <td>2</td>\n",
       "      <td>60/61</td>\n",
       "      <td>1</td>\n",
       "    </tr>\n",
       "    <tr>\n",
       "      <th>1</th>\n",
       "      <td>1960-09-04</td>\n",
       "      <td>15:00</td>\n",
       "      <td>4008204</td>\n",
       "      <td>90</td>\n",
       "      <td>Eendracht Aalst</td>\n",
       "      <td>1</td>\n",
       "      <td>Royal Antwerp FC</td>\n",
       "      <td>3</td>\n",
       "      <td>2</td>\n",
       "      <td>60/61</td>\n",
       "      <td>1</td>\n",
       "    </tr>\n",
       "    <tr>\n",
       "      <th>2</th>\n",
       "      <td>1960-09-04</td>\n",
       "      <td>15:00</td>\n",
       "      <td>4008205</td>\n",
       "      <td>246</td>\n",
       "      <td>Olympic Charleroi</td>\n",
       "      <td>35</td>\n",
       "      <td>RSC Anderlecht</td>\n",
       "      <td>0</td>\n",
       "      <td>7</td>\n",
       "      <td>60/61</td>\n",
       "      <td>1</td>\n",
       "    </tr>\n",
       "    <tr>\n",
       "      <th>3</th>\n",
       "      <td>1960-09-04</td>\n",
       "      <td>15:00</td>\n",
       "      <td>4008206</td>\n",
       "      <td>13</td>\n",
       "      <td>Beerschot</td>\n",
       "      <td>33</td>\n",
       "      <td>Verviétois</td>\n",
       "      <td>1</td>\n",
       "      <td>0</td>\n",
       "      <td>60/61</td>\n",
       "      <td>1</td>\n",
       "    </tr>\n",
       "    <tr>\n",
       "      <th>4</th>\n",
       "      <td>1960-09-04</td>\n",
       "      <td>15:00</td>\n",
       "      <td>4008207</td>\n",
       "      <td>3</td>\n",
       "      <td>Club Brugge</td>\n",
       "      <td>10</td>\n",
       "      <td>Union Saint-Gilloise</td>\n",
       "      <td>1</td>\n",
       "      <td>2</td>\n",
       "      <td>60/61</td>\n",
       "      <td>1</td>\n",
       "    </tr>\n",
       "  </tbody>\n",
       "</table>\n",
       "</div>"
      ],
      "text/plain": [
       "        Datum Tijdstip       Id  StamnummerThuisploeg RoepnaamThuisploeg  \\\n",
       "0  1960-09-04    15:00  4008203                   373  Sint-Truidense VV   \n",
       "1  1960-09-04    15:00  4008204                    90    Eendracht Aalst   \n",
       "2  1960-09-04    15:00  4008205                   246  Olympic Charleroi   \n",
       "3  1960-09-04    15:00  4008206                    13          Beerschot   \n",
       "4  1960-09-04    15:00  4008207                     3        Club Brugge   \n",
       "\n",
       "   StamnummerUitploeg      RoepnaamUitploeg  FinaleStandThuisploeg  \\\n",
       "0                  16         Standard Luik                      0   \n",
       "1                   1      Royal Antwerp FC                      3   \n",
       "2                  35        RSC Anderlecht                      0   \n",
       "3                  33            Verviétois                      1   \n",
       "4                  10  Union Saint-Gilloise                      1   \n",
       "\n",
       "   FinaleStandUitploeg Seizoen  Speeldag  \n",
       "0                    2   60/61         1  \n",
       "1                    2   60/61         1  \n",
       "2                    7   60/61         1  \n",
       "3                    0   60/61         1  \n",
       "4                    2   60/61         1  "
      ]
     },
     "execution_count": 6,
     "metadata": {},
     "output_type": "execute_result"
    }
   ],
   "source": [
    "df = pd.read_csv('clean_matches.csv', sep=';')\n",
    "df.head()"
   ]
  },
  {
   "cell_type": "markdown",
   "metadata": {},
   "source": [
    "3. Pak de 7de en 8ste kolom"
   ]
  },
  {
   "cell_type": "code",
   "execution_count": 7,
   "metadata": {},
   "outputs": [
    {
     "data": {
      "text/html": [
       "<div>\n",
       "<style scoped>\n",
       "    .dataframe tbody tr th:only-of-type {\n",
       "        vertical-align: middle;\n",
       "    }\n",
       "\n",
       "    .dataframe tbody tr th {\n",
       "        vertical-align: top;\n",
       "    }\n",
       "\n",
       "    .dataframe thead th {\n",
       "        text-align: right;\n",
       "    }\n",
       "</style>\n",
       "<table border=\"1\" class=\"dataframe\">\n",
       "  <thead>\n",
       "    <tr style=\"text-align: right;\">\n",
       "      <th></th>\n",
       "      <th>FinaleStandThuisploeg</th>\n",
       "    </tr>\n",
       "  </thead>\n",
       "  <tbody>\n",
       "    <tr>\n",
       "      <th>0</th>\n",
       "      <td>0</td>\n",
       "    </tr>\n",
       "    <tr>\n",
       "      <th>1</th>\n",
       "      <td>3</td>\n",
       "    </tr>\n",
       "    <tr>\n",
       "      <th>2</th>\n",
       "      <td>0</td>\n",
       "    </tr>\n",
       "    <tr>\n",
       "      <th>3</th>\n",
       "      <td>1</td>\n",
       "    </tr>\n",
       "    <tr>\n",
       "      <th>4</th>\n",
       "      <td>1</td>\n",
       "    </tr>\n",
       "    <tr>\n",
       "      <th>...</th>\n",
       "      <td>...</td>\n",
       "    </tr>\n",
       "    <tr>\n",
       "      <th>17893</th>\n",
       "      <td>0</td>\n",
       "    </tr>\n",
       "    <tr>\n",
       "      <th>17894</th>\n",
       "      <td>3</td>\n",
       "    </tr>\n",
       "    <tr>\n",
       "      <th>17895</th>\n",
       "      <td>1</td>\n",
       "    </tr>\n",
       "    <tr>\n",
       "      <th>17896</th>\n",
       "      <td>1</td>\n",
       "    </tr>\n",
       "    <tr>\n",
       "      <th>17897</th>\n",
       "      <td>1</td>\n",
       "    </tr>\n",
       "  </tbody>\n",
       "</table>\n",
       "<p>17898 rows × 1 columns</p>\n",
       "</div>"
      ],
      "text/plain": [
       "       FinaleStandThuisploeg\n",
       "0                          0\n",
       "1                          3\n",
       "2                          0\n",
       "3                          1\n",
       "4                          1\n",
       "...                      ...\n",
       "17893                      0\n",
       "17894                      3\n",
       "17895                      1\n",
       "17896                      1\n",
       "17897                      1\n",
       "\n",
       "[17898 rows x 1 columns]"
      ]
     },
     "execution_count": 7,
     "metadata": {},
     "output_type": "execute_result"
    }
   ],
   "source": [
    "df.iloc[:, 7:8]"
   ]
  },
  {
   "cell_type": "markdown",
   "metadata": {},
   "source": [
    "4. Hoeveel keer is de 7de en 8ste kolom gelijk aan 0"
   ]
  },
  {
   "cell_type": "code",
   "execution_count": 8,
   "metadata": {},
   "outputs": [],
   "source": [
    "nullen = len(df[(df.iloc[:, 7] == 0) & (df.iloc[:, 8] == 0)])"
   ]
  },
  {
   "cell_type": "markdown",
   "metadata": {},
   "source": [
    "5. Geef de lengte van de dataframe"
   ]
  },
  {
   "cell_type": "code",
   "execution_count": 9,
   "metadata": {},
   "outputs": [
    {
     "data": {
      "text/plain": [
       "17898"
      ]
     },
     "execution_count": 9,
     "metadata": {},
     "output_type": "execute_result"
    }
   ],
   "source": [
    "lengte = len(df)\n",
    "lengte"
   ]
  },
  {
   "cell_type": "markdown",
   "metadata": {},
   "source": [
    "5. Print af"
   ]
  },
  {
   "cell_type": "code",
   "execution_count": 10,
   "metadata": {},
   "outputs": [
    {
     "name": "stdout",
     "output_type": "stream",
     "text": [
      "Percentage wedstrijden waarin niet gescoord is: 8.39%\n"
     ]
    }
   ],
   "source": [
    "\n",
    "print(f'Percentage wedstrijden waarin niet gescoord is: {nullen/lengte*100:.2f}%')"
   ]
  }
 ],
 "metadata": {
  "kernelspec": {
   "display_name": "Python 3",
   "language": "python",
   "name": "python3"
  },
  "language_info": {
   "codemirror_mode": {
    "name": "ipython",
    "version": 3
   },
   "file_extension": ".py",
   "mimetype": "text/x-python",
   "name": "python",
   "nbconvert_exporter": "python",
   "pygments_lexer": "ipython3",
   "version": "3.12.3"
  }
 },
 "nbformat": 4,
 "nbformat_minor": 2
}
