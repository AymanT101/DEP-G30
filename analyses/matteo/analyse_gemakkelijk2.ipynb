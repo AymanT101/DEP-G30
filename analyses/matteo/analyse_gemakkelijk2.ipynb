{
 "cells": [
  {
   "cell_type": "markdown",
   "metadata": {},
   "source": [
    "# Analyse 1\n",
    "\n",
    "We kunnen ook inzetten op 'Beide teams scoren': Ja of Nee.\n",
    "\n",
    "We willen daar niet zomaar blindelings op inzetten maar een 'gefundeerde' keuze maken.\n",
    "\n",
    "Als de roepnamen van 2 clubs worden gegeven, bereken dan hoe vaak de beide teams scoorden in de vroegere duels: Ja of Nee. (inclusief de percentages)"
   ]
  },
  {
   "cell_type": "code",
   "execution_count": 23,
   "metadata": {},
   "outputs": [],
   "source": [
    "# De nodige imports inladen\n",
    "import pandas as pd\n",
    "import matplotlib.pyplot as plt"
   ]
  },
  {
   "cell_type": "code",
   "execution_count": 24,
   "metadata": {},
   "outputs": [],
   "source": [
    "# Dataset inladen\n",
    "wedstrijddata = pd.read_csv(\"D:/Hogent/Visual Studio Code/DEP/DEP1-2023-2024-groep30/transfermarkt/data/correcte_data/wedstrijden.csv\", sep=\";\")"
   ]
  },
  {
   "cell_type": "code",
   "execution_count": 25,
   "metadata": {},
   "outputs": [
    {
     "data": {
      "text/html": [
       "<div>\n",
       "<style scoped>\n",
       "    .dataframe tbody tr th:only-of-type {\n",
       "        vertical-align: middle;\n",
       "    }\n",
       "\n",
       "    .dataframe tbody tr th {\n",
       "        vertical-align: top;\n",
       "    }\n",
       "\n",
       "    .dataframe thead th {\n",
       "        text-align: right;\n",
       "    }\n",
       "</style>\n",
       "<table border=\"1\" class=\"dataframe\">\n",
       "  <thead>\n",
       "    <tr style=\"text-align: right;\">\n",
       "      <th></th>\n",
       "      <th>Seizoen</th>\n",
       "      <th>Speeldag</th>\n",
       "      <th>Datum</th>\n",
       "      <th>Tijdstip</th>\n",
       "      <th>Id</th>\n",
       "      <th>StamnummerThuisploeg</th>\n",
       "      <th>RoepnaamThuisploeg</th>\n",
       "      <th>StamnummerUitploeg</th>\n",
       "      <th>RoepnaamUitploeg</th>\n",
       "      <th>StandThuis</th>\n",
       "      <th>StandUit</th>\n",
       "    </tr>\n",
       "  </thead>\n",
       "  <tbody>\n",
       "    <tr>\n",
       "      <th>0</th>\n",
       "      <td>1960</td>\n",
       "      <td>1</td>\n",
       "      <td>1960-09-04</td>\n",
       "      <td>15:00</td>\n",
       "      <td>4008203</td>\n",
       "      <td>373</td>\n",
       "      <td>Sint-Truidense VV</td>\n",
       "      <td>16</td>\n",
       "      <td>Standard Luik</td>\n",
       "      <td>0</td>\n",
       "      <td>2</td>\n",
       "    </tr>\n",
       "    <tr>\n",
       "      <th>1</th>\n",
       "      <td>1960</td>\n",
       "      <td>1</td>\n",
       "      <td>1960-09-04</td>\n",
       "      <td>15:00</td>\n",
       "      <td>4008204</td>\n",
       "      <td>90</td>\n",
       "      <td>Eendracht Aalst</td>\n",
       "      <td>1</td>\n",
       "      <td>Royal Antwerp FC</td>\n",
       "      <td>3</td>\n",
       "      <td>2</td>\n",
       "    </tr>\n",
       "    <tr>\n",
       "      <th>2</th>\n",
       "      <td>1960</td>\n",
       "      <td>1</td>\n",
       "      <td>1960-09-04</td>\n",
       "      <td>15:00</td>\n",
       "      <td>4008205</td>\n",
       "      <td>246</td>\n",
       "      <td>Olympic Charleroi</td>\n",
       "      <td>35</td>\n",
       "      <td>RSC Anderlecht</td>\n",
       "      <td>0</td>\n",
       "      <td>7</td>\n",
       "    </tr>\n",
       "    <tr>\n",
       "      <th>3</th>\n",
       "      <td>1960</td>\n",
       "      <td>1</td>\n",
       "      <td>1960-09-04</td>\n",
       "      <td>15:00</td>\n",
       "      <td>4008206</td>\n",
       "      <td>13</td>\n",
       "      <td>Beerschot</td>\n",
       "      <td>33</td>\n",
       "      <td>Verviétois</td>\n",
       "      <td>1</td>\n",
       "      <td>0</td>\n",
       "    </tr>\n",
       "    <tr>\n",
       "      <th>4</th>\n",
       "      <td>1960</td>\n",
       "      <td>1</td>\n",
       "      <td>1960-09-04</td>\n",
       "      <td>15:00</td>\n",
       "      <td>4008207</td>\n",
       "      <td>3</td>\n",
       "      <td>Club Brugge</td>\n",
       "      <td>10</td>\n",
       "      <td>Union Saint-Gilloise</td>\n",
       "      <td>1</td>\n",
       "      <td>2</td>\n",
       "    </tr>\n",
       "    <tr>\n",
       "      <th>5</th>\n",
       "      <td>1960</td>\n",
       "      <td>1</td>\n",
       "      <td>1960-09-04</td>\n",
       "      <td>15:00</td>\n",
       "      <td>4008208</td>\n",
       "      <td>2</td>\n",
       "      <td>Daring Club Brussel</td>\n",
       "      <td>3434</td>\n",
       "      <td>Patro Eisden</td>\n",
       "      <td>2</td>\n",
       "      <td>1</td>\n",
       "    </tr>\n",
       "    <tr>\n",
       "      <th>6</th>\n",
       "      <td>1960</td>\n",
       "      <td>1</td>\n",
       "      <td>1960-09-04</td>\n",
       "      <td>15:00</td>\n",
       "      <td>4008209</td>\n",
       "      <td>4</td>\n",
       "      <td>RFC Luik</td>\n",
       "      <td>7</td>\n",
       "      <td>KAA Gent</td>\n",
       "      <td>2</td>\n",
       "      <td>1</td>\n",
       "    </tr>\n",
       "    <tr>\n",
       "      <th>7</th>\n",
       "      <td>1960</td>\n",
       "      <td>1</td>\n",
       "      <td>1960-09-04</td>\n",
       "      <td>15:00</td>\n",
       "      <td>4008210</td>\n",
       "      <td>553</td>\n",
       "      <td>Waterschei SV Thor</td>\n",
       "      <td>30</td>\n",
       "      <td>Lierse SK</td>\n",
       "      <td>5</td>\n",
       "      <td>0</td>\n",
       "    </tr>\n",
       "    <tr>\n",
       "      <th>8</th>\n",
       "      <td>1960</td>\n",
       "      <td>2</td>\n",
       "      <td>1960-09-11</td>\n",
       "      <td>15:00</td>\n",
       "      <td>4008211</td>\n",
       "      <td>16</td>\n",
       "      <td>Standard Luik</td>\n",
       "      <td>90</td>\n",
       "      <td>Eendracht Aalst</td>\n",
       "      <td>3</td>\n",
       "      <td>0</td>\n",
       "    </tr>\n",
       "    <tr>\n",
       "      <th>9</th>\n",
       "      <td>1960</td>\n",
       "      <td>2</td>\n",
       "      <td>1960-09-11</td>\n",
       "      <td>15:00</td>\n",
       "      <td>4008212</td>\n",
       "      <td>35</td>\n",
       "      <td>RSC Anderlecht</td>\n",
       "      <td>4</td>\n",
       "      <td>RFC Luik</td>\n",
       "      <td>2</td>\n",
       "      <td>3</td>\n",
       "    </tr>\n",
       "  </tbody>\n",
       "</table>\n",
       "</div>"
      ],
      "text/plain": [
       "   Seizoen  Speeldag       Datum Tijdstip       Id  StamnummerThuisploeg  \\\n",
       "0     1960         1  1960-09-04    15:00  4008203                   373   \n",
       "1     1960         1  1960-09-04    15:00  4008204                    90   \n",
       "2     1960         1  1960-09-04    15:00  4008205                   246   \n",
       "3     1960         1  1960-09-04    15:00  4008206                    13   \n",
       "4     1960         1  1960-09-04    15:00  4008207                     3   \n",
       "5     1960         1  1960-09-04    15:00  4008208                     2   \n",
       "6     1960         1  1960-09-04    15:00  4008209                     4   \n",
       "7     1960         1  1960-09-04    15:00  4008210                   553   \n",
       "8     1960         2  1960-09-11    15:00  4008211                    16   \n",
       "9     1960         2  1960-09-11    15:00  4008212                    35   \n",
       "\n",
       "    RoepnaamThuisploeg  StamnummerUitploeg      RoepnaamUitploeg  StandThuis  \\\n",
       "0    Sint-Truidense VV                  16         Standard Luik           0   \n",
       "1      Eendracht Aalst                   1      Royal Antwerp FC           3   \n",
       "2    Olympic Charleroi                  35        RSC Anderlecht           0   \n",
       "3            Beerschot                  33            Verviétois           1   \n",
       "4          Club Brugge                  10  Union Saint-Gilloise           1   \n",
       "5  Daring Club Brussel                3434          Patro Eisden           2   \n",
       "6             RFC Luik                   7              KAA Gent           2   \n",
       "7   Waterschei SV Thor                  30             Lierse SK           5   \n",
       "8        Standard Luik                  90       Eendracht Aalst           3   \n",
       "9       RSC Anderlecht                   4              RFC Luik           2   \n",
       "\n",
       "   StandUit  \n",
       "0         2  \n",
       "1         2  \n",
       "2         7  \n",
       "3         0  \n",
       "4         2  \n",
       "5         1  \n",
       "6         1  \n",
       "7         0  \n",
       "8         0  \n",
       "9         3  "
      ]
     },
     "execution_count": 25,
     "metadata": {},
     "output_type": "execute_result"
    }
   ],
   "source": [
    "# De eerste 10 rijen van de dataset bekijken\n",
    "wedstrijddata.head(10)"
   ]
  },
  {
   "cell_type": "code",
   "execution_count": 26,
   "metadata": {},
   "outputs": [],
   "source": [
    "# Analyse beide teams scoren\n",
    "def analyseer_teams(data, team1, team2):\n",
    "    # Filter de wedstrijden waar beide teams tegen elkaar speelden\n",
    "    matches = data[((data['RoepnaamThuisploeg'] == team1) & (data['RoepnaamUitploeg'] == team2)) |\n",
    "                   ((data['RoepnaamThuisploeg'] == team2) & (data['RoepnaamUitploeg'] == team1))]\n",
    "    \n",
    "    # Bereken het aantal matchen waar beide teams scoorden\n",
    "    matches['BeideScoren'] = (matches['StandThuis'] > 0) & (matches['StandUit'] > 0)\n",
    "    \n",
    "    # Percentage berekenen\n",
    "    if len(matches) > 0: # Als er wedstrijden gevonden zijn\n",
    "        percentage_yes = matches['BeideScoren'].mean() * 100 # Percentage berekenen\n",
    "        aantal_ja = matches['BeideScoren'].sum() # Aantal keer dat beide teams scoorden\n",
    "        aantal_nee = len(matches) - aantal_ja # Aantal keer dat beide teams niet scoorden\n",
    "        return {\n",
    "            'Aantal Wedstrijden': len(matches),\n",
    "            'Beide Scoren Ja': aantal_ja,\n",
    "            'Beide Scoren Nee': aantal_nee,\n",
    "            'Percentage Ja': percentage_yes,\n",
    "            'Percentage Nee': 100 - percentage_yes\n",
    "        }\n",
    "    else:\n",
    "        return \"Geen wedstrijden gevonden tussen deze teams.\""
   ]
  },
  {
   "cell_type": "code",
   "execution_count": 27,
   "metadata": {},
   "outputs": [
    {
     "name": "stdout",
     "output_type": "stream",
     "text": [
      "{'Aantal Wedstrijden': 106, 'Beide Scoren Ja': 64, 'Beide Scoren Nee': 42, 'Percentage Ja': 60.37735849056604, 'Percentage Nee': 39.62264150943396}\n"
     ]
    },
    {
     "name": "stderr",
     "output_type": "stream",
     "text": [
      "C:\\Users\\Matteo\\AppData\\Local\\Temp\\ipykernel_6612\\1715862500.py:8: SettingWithCopyWarning: \n",
      "A value is trying to be set on a copy of a slice from a DataFrame.\n",
      "Try using .loc[row_indexer,col_indexer] = value instead\n",
      "\n",
      "See the caveats in the documentation: https://pandas.pydata.org/pandas-docs/stable/user_guide/indexing.html#returning-a-view-versus-a-copy\n",
      "  matches['BeideScoren'] = (matches['StandThuis'] > 0) & (matches['StandUit'] > 0)\n"
     ]
    }
   ],
   "source": [
    "# Voorbeeld: Analyseer teams\n",
    "resultaat = analyseer_teams(wedstrijddata, 'KAA Gent', 'RSC Anderlecht')\n",
    "print(resultaat)"
   ]
  },
  {
   "cell_type": "code",
   "execution_count": 28,
   "metadata": {},
   "outputs": [
    {
     "name": "stdout",
     "output_type": "stream",
     "text": [
      "{'Aantal Wedstrijden': 20, 'Beide Scoren Ja': 14, 'Beide Scoren Nee': 6, 'Percentage Ja': 70.0, 'Percentage Nee': 30.0}\n"
     ]
    },
    {
     "name": "stderr",
     "output_type": "stream",
     "text": [
      "C:\\Users\\Matteo\\AppData\\Local\\Temp\\ipykernel_6612\\1715862500.py:8: SettingWithCopyWarning: \n",
      "A value is trying to be set on a copy of a slice from a DataFrame.\n",
      "Try using .loc[row_indexer,col_indexer] = value instead\n",
      "\n",
      "See the caveats in the documentation: https://pandas.pydata.org/pandas-docs/stable/user_guide/indexing.html#returning-a-view-versus-a-copy\n",
      "  matches['BeideScoren'] = (matches['StandThuis'] > 0) & (matches['StandUit'] > 0)\n"
     ]
    }
   ],
   "source": [
    "# Voorbeeld 2: Analyseer teams\n",
    "resultaat = analyseer_teams(wedstrijddata, 'SV Zulte Waregem', 'KV Oostende')\n",
    "print(resultaat)"
   ]
  },
  {
   "cell_type": "code",
   "execution_count": 29,
   "metadata": {},
   "outputs": [
    {
     "name": "stdout",
     "output_type": "stream",
     "text": [
      "{'Aantal Wedstrijden': 94, 'Beide Scoren Ja': 48, 'Beide Scoren Nee': 46, 'Percentage Ja': 51.06382978723404, 'Percentage Nee': 48.93617021276596}\n"
     ]
    },
    {
     "name": "stderr",
     "output_type": "stream",
     "text": [
      "C:\\Users\\Matteo\\AppData\\Local\\Temp\\ipykernel_6612\\1715862500.py:8: SettingWithCopyWarning: \n",
      "A value is trying to be set on a copy of a slice from a DataFrame.\n",
      "Try using .loc[row_indexer,col_indexer] = value instead\n",
      "\n",
      "See the caveats in the documentation: https://pandas.pydata.org/pandas-docs/stable/user_guide/indexing.html#returning-a-view-versus-a-copy\n",
      "  matches['BeideScoren'] = (matches['StandThuis'] > 0) & (matches['StandUit'] > 0)\n"
     ]
    }
   ],
   "source": [
    "# Voorbeeld 3: Analyseer teams\n",
    "resultaat = analyseer_teams(wedstrijddata, 'Royal Antwerp FC', 'Standard Luik')\n",
    "print(resultaat)"
   ]
  },
  {
   "cell_type": "code",
   "execution_count": 30,
   "metadata": {},
   "outputs": [
    {
     "data": {
      "image/png": "[encoded data removed]",
      "text/plain": [
       "<Figure size 1000x600 with 1 Axes>"
      ]
     },
     "metadata": {},
     "output_type": "display_data"
    }
   ],
   "source": [
    "# Grafiek met aantal wedstrijden waar beide teams scoren\n",
    "if isinstance(resultaat, dict):\n",
    "    labels = ['Beide Scoren Ja', 'Beide Scoren Nee'] # X-as labels\n",
    "    waarden = [resultaat['Beide Scoren Ja'], resultaat['Beide Scoren Nee']] # Y-as waarden\n",
    "    \n",
    "    plt.figure(figsize=(10, 6))\n",
    "    bars = plt.bar(labels, waarden, color=['green', 'red']) # Maak een staafdiagram\n",
    "    \n",
    "    plt.title('Beide teams scoren ja of nee?') # Titel van de grafiek\n",
    "    plt.xlabel('Score Status') # X-as label\n",
    "    plt.ylabel('Aantal Wedstrijden') # Y-as label\n",
    "    plt.ylim(0, max(waarden) + 1)  # Zorg voor voldoende ruimte boven de bars\n",
    "\n",
    "    # Voeg numerieke labels toe boven elke staaf\n",
    "    for bar in bars:\n",
    "        yval = bar.get_height()\n",
    "        plt.text(bar.get_x() + bar.get_width()/2, yval, int(yval), va='bottom')  # Center the text vertically just above the bar\n",
    "\n",
    "    plt.show()\n",
    "else:\n",
    "    print(\"Geen grafiek beschikbaar: \" + resultaat) # Geen grafiek beschikbaar"
   ]
  },
  {
   "cell_type": "code",
   "execution_count": 31,
   "metadata": {},
   "outputs": [
    {
     "data": {
      "image/png": "[encoded data removed]",
      "text/plain": [
       "<Figure size 800x800 with 1 Axes>"
      ]
     },
     "metadata": {},
     "output_type": "display_data"
    }
   ],
   "source": [
    "# Grafiek met percentages\n",
    "if isinstance(resultaat, dict):\n",
    "    labels = ['Beide Scoren Ja', 'Beide Scoren Nee'] # X-as labels\n",
    "    percentages = [resultaat['Percentage Ja'], resultaat['Percentage Nee']] # Y-as waarden\n",
    "    \n",
    "    plt.figure(figsize=(8, 8))\n",
    "    plt.pie(percentages, labels=labels, colors=['green', 'red'], autopct='%1.1f%%', startangle=90) # Maak een cirkeldiagram\n",
    "    plt.title('Percentage van Wedstrijden Waar Beide Teams Scoren') # Titel van de grafiek\n",
    "\n",
    "    plt.show()\n",
    "else:\n",
    "    print(\"Geen grafiek beschikbaar: \" + resultaat)"
   ]
  }
 ],
 "metadata": {
  "kernelspec": {
   "display_name": "Python 3",
   "language": "python",
   "name": "python3"
  },
  "language_info": {
   "codemirror_mode": {
    "name": "ipython",
    "version": 3
   },
   "file_extension": ".py",
   "mimetype": "text/x-python",
   "name": "python",
   "nbconvert_exporter": "python",
   "pygments_lexer": "ipython3",
   "version": "3.12.2"
  }
 },
 "nbformat": 4,
 "nbformat_minor": 2
}
