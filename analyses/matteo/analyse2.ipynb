{
 "cells": [
  {
   "cell_type": "markdown",
   "metadata": {},
   "source": [
    "# Analyse 2\n",
    "\n",
    "Bereken hoeveel je de afgelopen jaren in totaal zou verdiend hebben mocht je telkens consequent 10 EUR hebben ingezet op de laagste van de 3 mogelijke bets (thuis wint / gelijkspel / uit wint)\n",
    "Als er geen laagste was (bijvoorbeeld bet voor thuis wint = bet voor gelijkspel), dan neem je deze record niet op in de berekeningen.\n",
    "Voer de berekening eerst uit voor 1 van de 6 aanbieders van weddenschappen (B365 / BS / BW / IW / WH / VC)\n",
    "Herneem de berekening, maar maak nu gebruik van het maximum bedrag dat je had kunnen krijgen.\n",
    "Bijvoorbeeld\n",
    "- B365 --> 1.22 EUR\n",
    "- BS --> 1.25 EUR\n",
    "- BW --> 1.20 EUR\n",
    "- IW --> 1.28 EUR\n",
    "- WH --> 1.25 EUR\n",
    "- VC --> 1.23 EUR\n",
    "\n",
    "In dit geval kies je voor IW want daar krijg je de grootste winst uitbetaald (1.28 EUR) "
   ]
  },
  {
   "cell_type": "code",
   "execution_count": 1,
   "metadata": {},
   "outputs": [
    {
     "name": "stderr",
     "output_type": "stream",
     "text": [
      "C:\\Users\\Matteo\\AppData\\Local\\Temp\\ipykernel_5732\\2166059293.py:4: DeprecationWarning: \n",
      "Pyarrow will become a required dependency of pandas in the next major release of pandas (pandas 3.0),\n",
      "(to allow more performant data types, such as the Arrow string type, and better interoperability with other libraries)\n",
      "but was not found to be installed on your system.\n",
      "If this would cause problems for you,\n",
      "please provide us feedback at https://github.com/pandas-dev/pandas/issues/54466\n",
      "        \n",
      "  import pandas as pd\n"
     ]
    }
   ],
   "source": [
    "# Importing the necessary packages\n",
    "import numpy as np                                  # \"Scientific computing\"\n",
    "import scipy.stats as stats                         # Statistical tests\n",
    "\n",
    "import pandas as pd                                 # Data Frame\n",
    "from pandas.api.types import CategoricalDtype\n",
    "\n",
    "import matplotlib.pyplot as plt                     # Basic visualisation\n",
    "from statsmodels.graphics.mosaicplot import mosaic  # Mosaic diagram\n",
    "import seaborn as sns                               # Advanced data visualisation"
   ]
  }
 ],
 "metadata": {
  "kernelspec": {
   "display_name": "Python 3",
   "language": "python",
   "name": "python3"
  },
  "language_info": {
   "codemirror_mode": {
    "name": "ipython",
    "version": 3
   },
   "file_extension": ".py",
   "mimetype": "text/x-python",
   "name": "python",
   "nbconvert_exporter": "python",
   "pygments_lexer": "ipython3",
   "version": "3.12.2"
  }
 },
 "nbformat": 4,
 "nbformat_minor": 2
}
